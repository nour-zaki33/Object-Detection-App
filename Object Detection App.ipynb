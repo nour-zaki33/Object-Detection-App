{
 "cells": [
  {
   "cell_type": "code",
   "execution_count": null,
   "id": "933f66e1-18a0-4b3e-84b7-da10b19cc435",
   "metadata": {},
   "outputs": [
    {
     "name": "stdout",
     "output_type": "stream",
     "text": [
      "Overwriting Obj_detection.py\n"
     ]
    }
   ],
   "source": [
    "%%writefile Obj_detection.py\n",
    "import streamlit as st\n",
    "import cv2\n",
    "import numpy as np\n",
    "import mediapipe as mp\n",
    "from mediapipe.tasks import python\n",
    "from mediapipe.tasks.python import vision\n",
    "\n",
    "MARGIN = 10  \n",
    "ROW_SIZE = 10  \n",
    "FONT_SIZE = 1\n",
    "FONT_THICKNESS = 1\n",
    "TEXT_COLOR = (0, 255, 0)  # red\n",
    "\n",
    "def visualize(image,detection_result) -> np.ndarray:\n",
    "  \n",
    "  for detection in detection_result.detections:\n",
    "    # Draw bounding_box\n",
    "    bbox = detection.bounding_box\n",
    "    start_point = bbox.origin_x, bbox.origin_y\n",
    "    end_point = bbox.origin_x + bbox.width, bbox.origin_y + bbox.height\n",
    "    cv2.rectangle(image, start_point, end_point, TEXT_COLOR, 3)\n",
    "\n",
    "    # Draw label and score\n",
    "    category = detection.categories[0]\n",
    "    category_name = category.category_name\n",
    "    probability = round(category.score, 2)\n",
    "    result_text = category_name + ' (' + str(probability) + ')'\n",
    "    text_location = (MARGIN + bbox.origin_x,\n",
    "                     MARGIN + ROW_SIZE + bbox.origin_y)\n",
    "    cv2.putText(image, result_text, text_location, cv2.FONT_HERSHEY_PLAIN,\n",
    "                FONT_SIZE, TEXT_COLOR, FONT_THICKNESS)\n",
    "\n",
    "  return image\n",
    "\n",
    "base_options = python.BaseOptions(model_asset_path=\"C:/Users/LENOVO/Downloads/efficientdet_lite0.tflite\")\n",
    "options = vision.ObjectDetectorOptions(base_options=base_options,\n",
    "                                       score_threshold=0.5)\n",
    "detector = vision.ObjectDetector.create_from_options(options)\n",
    "\n",
    "\n",
    "###----GUI------------------------------------------------------\n",
    "st.title('Object Detection App')\n",
    "upload_img = st.file_uploader('please , upload an image :', type = ['jpg','png','jepg'])\n",
    "\n",
    "\n",
    "if upload_img is not None:\n",
    "    file_bytes = np.asarray(bytearray(upload_img.read()), dtype = np.uint8)\n",
    "    img = cv2.imdecode(file_bytes,1)\n",
    "    img = cv2.cvtColor(img, cv2.COLOR_BGR2RGB)\n",
    "\n",
    "    st.image(img, 'Uploaded Image', use_container_width = True)\n",
    "    \n",
    "    mp_image = mp.Image(image_format = mp.ImageFormat.SRGB , data = img)\n",
    "\n",
    "\n",
    "    detection_result = detector.detect(mp_image)\n",
    "    \n",
    "    annotated_image = visualize(img, detection_result)\n",
    "    st.image(annotated_image, 'Detected objs Image', use_container_width = True)\n"
   ]
  },
  {
   "cell_type": "code",
   "execution_count": null,
   "id": "b307e6ae-14e7-4eee-81b6-685a2ac5f1de",
   "metadata": {},
   "outputs": [],
   "source": []
  }
 ],
 "metadata": {
  "kernelspec": {
   "display_name": "Python 3",
   "language": "python",
   "name": "python3"
  },
  "language_info": {
   "codemirror_mode": {
    "name": "ipython",
    "version": 3
   },
   "file_extension": ".py",
   "mimetype": "text/x-python",
   "name": "python",
   "nbconvert_exporter": "python",
   "pygments_lexer": "ipython3",
   "version": "3.11.9"
  }
 },
 "nbformat": 4,
 "nbformat_minor": 5
}
